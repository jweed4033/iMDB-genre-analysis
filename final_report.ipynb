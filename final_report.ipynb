{
 "cells": [
  {
   "cell_type": "code",
   "execution_count": 2,
   "metadata": {},
   "outputs": [
    {
     "name": "stdout",
     "output_type": "stream",
     "text": [
      "Requirement already satisfied: requests in c:\\users\\jweed\\anaconda3\\envs\\info2950\\lib\\site-packages (2.23.0)\n",
      "Requirement already satisfied: chardet<4,>=3.0.2 in c:\\users\\jweed\\anaconda3\\envs\\info2950\\lib\\site-packages (from requests) (3.0.4)\n",
      "Requirement already satisfied: idna<3,>=2.5 in c:\\users\\jweed\\anaconda3\\envs\\info2950\\lib\\site-packages (from requests) (2.9)\n",
      "Requirement already satisfied: certifi>=2017.4.17 in c:\\users\\jweed\\anaconda3\\envs\\info2950\\lib\\site-packages (from requests) (2019.11.28)\n",
      "Requirement already satisfied: urllib3!=1.25.0,!=1.25.1,<1.26,>=1.21.1 in c:\\users\\jweed\\anaconda3\\envs\\info2950\\lib\\site-packages (from requests) (1.25.9)\n"
     ]
    }
   ],
   "source": [
    "import pandas as pd\n",
    "import numpy as np\n",
    "from matplotlib import pyplot as plt\n",
    "from sklearn.linear_model import LinearRegression\n",
    "from sklearn.metrics import r2_score\n",
    "import sys\n",
    "!{sys.executable} -m pip install requests\n",
    "import requests"
   ]
  },
  {
   "cell_type": "markdown",
   "metadata": {},
   "source": [
    "## Introduction\n",
    "\n",
    "Every year, the best picture nominees at the Oscar Awards seem to mostly be tear-jerking, serious dramas. We rarely see our favorite superhero flick or Will Ferrel movie in contention. Does the data back this observation up? In this report I investigated the relationship between critical reviews of a movie, sourced from Rotten Tomatoes, and the movie's genre. My hypothesis was that dramas are more likely to be rated highly by critics, whereas action movies and comedies are likel to be rated lower. I did not make a hypothesis for the rest of the genres. I found that dramas are indeed more likely to be rated highly by critics, while action movies are more likely to be rated poorly. However whether a movie is a comedy was found to be statistically insignificant on its rating. \n"
   ]
  },
  {
   "cell_type": "markdown",
   "metadata": {},
   "source": [
    "## Data Description\n",
    "\n",
    "In this project I will be using two data sets. The first is a dataset I pulled from the Open Movie Database API. The second is called IMDB Movies Dataset, and is a publically available dataset of over 14000 movies on Kaggle. I am joining elemenents from both of these datasets on a common movie ID column to create a dataframe with several variables. I will examine these variables' correlation with a movie's Rotten Tomatoes score.\n",
    "\n",
    "The dataset could also be used to examine the correlation between any other two variables, such as year and genre, or box office and total user reviews submitted. The Kaggle dataset was originally created and cleaned to be used in a machine learning model, although the cleaning was not thorough. I will expand upon this in the Dataset Preprocessing section.\n",
    "\n",
    "#### DATA FUNDING/POTENTIAL BIASES\n",
    "\n",
    "The owner of the OMDb API is not affiliated in any way with IMDb. He manages the service via donations and payments from patreon, with come with perks such as unlimited API access. There should be no vested interests that would cause the data to be biased. The Kaggle dataset generated the data for a Machine Learning competition, and posted it on Kaggle so others could use it. The data was scraped directly from the IMDb website, and is only used for facts about the movie, such as genre, title, and year of publication. Again, there should be no bias resulting from that.\n",
    "\n",
    "#### DATA COMPOSITION\n",
    "\n",
    "The data I am using contains several variables of a movie I will examine. Each row is one instance of a movie or episode, and there are around 14500 total instances. The relevant columns are:\n",
    "\n",
    "\"tid\" - The internal ID of the movie on iMDB. This column is shared by both datasets\n",
    "\"rt_score\" - The score of the movie/episode on rotten tomatoes\n",
    "\n",
    "The rest of the relevant coluns are binary dummy columns that indicate which genre(s) the movie/episode is.\n",
    "\n",
    "#### DATA COLLECTION PROCESS:\n",
    "\n",
    "The dataset from Kaggle was a simple click to download. I then loaded the csv into a pandas dataframe, To pull all of the necessary data out of the Open Movies Database API, I looped through the dataframe, running an API call on each \"tid\" entry and pulling the relevant information into a local list. The API limits non-paid users to 1000 calls per email address per day, so I only used the first 1000 columns of the Kaggle dataset for this project. I could have signed up for the API with more email addresses, or I could have extracted the data over a matter of weeks, but I found that 1000 rows was enough data to make statistically significant conclusions. The Kaggle database was not ordered in any way, so the first 1000 rows are as random as any 1000 rows in the dataset.\n",
    "\n",
    "#### DATASET PREPROCESSING:\n",
    "\n",
    "The data form the API came in the form of a JSON file, with most values represented as strings, even the numbers. I had to convert several fields, including the rotten tomatoes percentage scores, into integers by removing percentage signs and quotation marks. The Kaggle dataset was pre-cleaned for machine learning, but not thoroughly. For example, many movie titles took up several columns, which threw off the rest of the entries in the row. I looped through the dataset and deleted all of these rows before I joined it with the API data. The final dataset contains 911 columns. All of the preprocessing was done in a Jupyter Notebook, which can be found in this repository.\n",
    "\n",
    "#### POTENTIAL PROBLEMS\n",
    "\n",
    "The only potential problem with the Kaggle dataset is that the initial poster of the dataset did not describe in detail their method for scraping the data from iMDB. This means that in theory it is possible that the Kaggle dataset is not a truly random sampling of movies, which might throw off the report's conclusions about the data. While I couldn't unearth the exact process of the data, I examined the distribution of genres and scores, and didn't find much out of the ordinary, so I decided the sample was random enough to proceed with the report.\n",
    "\n",
    "#### LINKS:\n",
    "\n",
    "The links to the API and the Kaggle data can be found here:\n",
    "http://www.omdbapi.com/\n",
    "https://www.kaggle.com/orgesleka/imdbmovies\n",
    "\n",
    "The post-processed data I used in this analysis, along with the source code where the processing happened, can be found in the repository linked at the end of this report\n"
   ]
  },
  {
   "cell_type": "markdown",
   "metadata": {},
   "source": [
    "## Data Analysis\n",
    "\n",
    "First I loaded the post-process data into a csv file. Here are 5 sample rows from the data set:"
   ]
  },
  {
   "cell_type": "code",
   "execution_count": 3,
   "metadata": {},
   "outputs": [
    {
     "data": {
      "text/html": [
       "<div>\n",
       "<style scoped>\n",
       "    .dataframe tbody tr th:only-of-type {\n",
       "        vertical-align: middle;\n",
       "    }\n",
       "\n",
       "    .dataframe tbody tr th {\n",
       "        vertical-align: top;\n",
       "    }\n",
       "\n",
       "    .dataframe thead th {\n",
       "        text-align: right;\n",
       "    }\n",
       "</style>\n",
       "<table border=\"1\" class=\"dataframe\">\n",
       "  <thead>\n",
       "    <tr style=\"text-align: right;\">\n",
       "      <th></th>\n",
       "      <th>rt_rating</th>\n",
       "      <th>fn</th>\n",
       "      <th>tid</th>\n",
       "      <th>title</th>\n",
       "      <th>wordsInTitle</th>\n",
       "      <th>url</th>\n",
       "      <th>imdbRating</th>\n",
       "      <th>ratingCount</th>\n",
       "      <th>duration</th>\n",
       "      <th>year</th>\n",
       "      <th>...</th>\n",
       "      <th>Short</th>\n",
       "      <th>Sport</th>\n",
       "      <th>TalkShow</th>\n",
       "      <th>Thriller</th>\n",
       "      <th>War</th>\n",
       "      <th>Western</th>\n",
       "      <th>asdf</th>\n",
       "      <th>untitled</th>\n",
       "      <th>Unnamed: 46</th>\n",
       "      <th>Unnamed: 47</th>\n",
       "    </tr>\n",
       "  </thead>\n",
       "  <tbody>\n",
       "    <tr>\n",
       "      <th>0</th>\n",
       "      <td>100</td>\n",
       "      <td>titles01/tt0012349</td>\n",
       "      <td>tt0012349</td>\n",
       "      <td>Der Vagabund und das Kind (1921)</td>\n",
       "      <td>der vagabund und das kind</td>\n",
       "      <td>http://www.imdb.com/title/tt0012349/</td>\n",
       "      <td>8.4</td>\n",
       "      <td>40550</td>\n",
       "      <td>3240</td>\n",
       "      <td>1921</td>\n",
       "      <td>...</td>\n",
       "      <td>0</td>\n",
       "      <td>0</td>\n",
       "      <td>0</td>\n",
       "      <td>0</td>\n",
       "      <td>0</td>\n",
       "      <td>0</td>\n",
       "      <td>NaN</td>\n",
       "      <td>NaN</td>\n",
       "      <td>NaN</td>\n",
       "      <td>NaN</td>\n",
       "    </tr>\n",
       "    <tr>\n",
       "      <th>1</th>\n",
       "      <td>100</td>\n",
       "      <td>titles01/tt0015864</td>\n",
       "      <td>tt0015864</td>\n",
       "      <td>Goldrausch (1925)</td>\n",
       "      <td>goldrausch</td>\n",
       "      <td>http://www.imdb.com/title/tt0015864/</td>\n",
       "      <td>8.3</td>\n",
       "      <td>45319</td>\n",
       "      <td>5700</td>\n",
       "      <td>1925</td>\n",
       "      <td>...</td>\n",
       "      <td>0</td>\n",
       "      <td>0</td>\n",
       "      <td>0</td>\n",
       "      <td>0</td>\n",
       "      <td>0</td>\n",
       "      <td>0</td>\n",
       "      <td>NaN</td>\n",
       "      <td>NaN</td>\n",
       "      <td>NaN</td>\n",
       "      <td>NaN</td>\n",
       "    </tr>\n",
       "    <tr>\n",
       "      <th>2</th>\n",
       "      <td>97</td>\n",
       "      <td>titles01/tt0017136</td>\n",
       "      <td>tt0017136</td>\n",
       "      <td>Metropolis (1927)</td>\n",
       "      <td>metropolis</td>\n",
       "      <td>http://www.imdb.com/title/tt0017136/</td>\n",
       "      <td>8.4</td>\n",
       "      <td>81007</td>\n",
       "      <td>9180</td>\n",
       "      <td>1927</td>\n",
       "      <td>...</td>\n",
       "      <td>0</td>\n",
       "      <td>0</td>\n",
       "      <td>0</td>\n",
       "      <td>0</td>\n",
       "      <td>0</td>\n",
       "      <td>0</td>\n",
       "      <td>NaN</td>\n",
       "      <td>NaN</td>\n",
       "      <td>NaN</td>\n",
       "      <td>NaN</td>\n",
       "    </tr>\n",
       "    <tr>\n",
       "      <th>3</th>\n",
       "      <td>93</td>\n",
       "      <td>titles01/tt0017925</td>\n",
       "      <td>tt0017925</td>\n",
       "      <td>Der General (1926)</td>\n",
       "      <td>der general</td>\n",
       "      <td>http://www.imdb.com/title/tt0017925/</td>\n",
       "      <td>8.3</td>\n",
       "      <td>37521</td>\n",
       "      <td>6420</td>\n",
       "      <td>1926</td>\n",
       "      <td>...</td>\n",
       "      <td>0</td>\n",
       "      <td>0</td>\n",
       "      <td>0</td>\n",
       "      <td>0</td>\n",
       "      <td>0</td>\n",
       "      <td>0</td>\n",
       "      <td>NaN</td>\n",
       "      <td>NaN</td>\n",
       "      <td>NaN</td>\n",
       "      <td>NaN</td>\n",
       "    </tr>\n",
       "    <tr>\n",
       "      <th>4</th>\n",
       "      <td>98</td>\n",
       "      <td>titles01/tt0021749</td>\n",
       "      <td>tt0021749</td>\n",
       "      <td>Lichter der Großstadt (1931)</td>\n",
       "      <td>lichter der gro stadt</td>\n",
       "      <td>http://www.imdb.com/title/tt0021749/</td>\n",
       "      <td>8.7</td>\n",
       "      <td>70057</td>\n",
       "      <td>5220</td>\n",
       "      <td>1931</td>\n",
       "      <td>...</td>\n",
       "      <td>0</td>\n",
       "      <td>0</td>\n",
       "      <td>0</td>\n",
       "      <td>0</td>\n",
       "      <td>0</td>\n",
       "      <td>0</td>\n",
       "      <td>NaN</td>\n",
       "      <td>NaN</td>\n",
       "      <td>NaN</td>\n",
       "      <td>NaN</td>\n",
       "    </tr>\n",
       "  </tbody>\n",
       "</table>\n",
       "<p>5 rows × 49 columns</p>\n",
       "</div>"
      ],
      "text/plain": [
       "   rt_rating                  fn        tid                             title  \\\n",
       "0        100  titles01/tt0012349  tt0012349  Der Vagabund und das Kind (1921)   \n",
       "1        100  titles01/tt0015864  tt0015864                 Goldrausch (1925)   \n",
       "2         97  titles01/tt0017136  tt0017136                 Metropolis (1927)   \n",
       "3         93  titles01/tt0017925  tt0017925                Der General (1926)   \n",
       "4         98  titles01/tt0021749  tt0021749      Lichter der Großstadt (1931)   \n",
       "\n",
       "                wordsInTitle                                   url  \\\n",
       "0  der vagabund und das kind  http://www.imdb.com/title/tt0012349/   \n",
       "1                 goldrausch  http://www.imdb.com/title/tt0015864/   \n",
       "2                 metropolis  http://www.imdb.com/title/tt0017136/   \n",
       "3                der general  http://www.imdb.com/title/tt0017925/   \n",
       "4      lichter der gro stadt  http://www.imdb.com/title/tt0021749/   \n",
       "\n",
       "   imdbRating  ratingCount  duration  year  ... Short  Sport  TalkShow  \\\n",
       "0         8.4        40550      3240  1921  ...     0      0         0   \n",
       "1         8.3        45319      5700  1925  ...     0      0         0   \n",
       "2         8.4        81007      9180  1927  ...     0      0         0   \n",
       "3         8.3        37521      6420  1926  ...     0      0         0   \n",
       "4         8.7        70057      5220  1931  ...     0      0         0   \n",
       "\n",
       "   Thriller  War  Western  asdf  untitled  Unnamed: 46  Unnamed: 47  \n",
       "0         0    0        0   NaN       NaN          NaN          NaN  \n",
       "1         0    0        0   NaN       NaN          NaN          NaN  \n",
       "2         0    0        0   NaN       NaN          NaN          NaN  \n",
       "3         0    0        0   NaN       NaN          NaN          NaN  \n",
       "4         0    0        0   NaN       NaN          NaN          NaN  \n",
       "\n",
       "[5 rows x 49 columns]"
      ]
     },
     "execution_count": 3,
     "metadata": {},
     "output_type": "execute_result"
    }
   ],
   "source": [
    "movies = pd.read_csv(\"final_data.csv\")\n",
    "movies.head()"
   ]
  },
  {
   "cell_type": "markdown",
   "metadata": {},
   "source": [
    "Each row in the dataset corresponds to one movie or episode. While the dataset has a fair amount of information, this report only concerns the genre columns and the rt_rating column. The genres columns are formatted as dummy columns, which means a row will have a 1 in the column if it is of that genre, and a 0 if it doesn't. A movie can be tagged as more than one genre. To get an idea of the genre distribution, I summed each column and printed the results, then included a bar chart with the 5 most common genres. These genres, which include the three my hypothesis addresses, are the ones I will be focusing on for the rest of the report."
   ]
  },
  {
   "cell_type": "code",
   "execution_count": 4,
   "metadata": {},
   "outputs": [
    {
     "name": "stdout",
     "output_type": "stream",
     "text": [
      "{'Action': 153, 'Adult': 0, 'Adventure': 190, 'Animation': 39, 'Biography': 76, 'Comedy': 158, 'Crime': 175, 'Documentary': 1, 'Drama': 588, 'Family': 47, 'Fantasy': 64, 'FilmNoir': 30, 'GameShow': 0, 'History': 69, 'Horror': 47, 'Music': 14, 'Musical': 6, 'Mystery': 105, 'News': 0, 'RealityTV': 0, 'Romance': 104, 'SciFi': 89, 'Short': 0, 'Sport': 31, 'TalkShow': 0, 'Thriller': 152, 'War': 78, 'Western': 32}\n"
     ]
    },
    {
     "data": {
      "image/png": "[encoded data removed]",
      "text/plain": [
       "<Figure size 432x288 with 1 Axes>"
      ]
     },
     "metadata": {
      "needs_background": "light"
     },
     "output_type": "display_data"
    }
   ],
   "source": [
    "from collections import Counter\n",
    "\n",
    "genres = movies.loc[:, \"Action\":\"Western\"] #Select all of the genre dummy columns\n",
    "count_vals = {}\n",
    "avg_vals = {}\n",
    "for col in genres.columns:\n",
    "    count_vals[col] = genres[col].sum()\n",
    "    avg_vals[col] = movies.loc[movies[col] == 1][\"rt_rating\"].mean()\n",
    "print(count_vals)\n",
    "\n",
    "\n",
    "mostCommon =  dict(Counter(count_vals).most_common(5)) #Select the five genres with the highest count\n",
    "plt.bar(mostCommon.keys(), mostCommon.values())\n",
    "plt.xlabel(\"Genre\")\n",
    "plt.ylabel(\"Count\")\n",
    "plt.show()\n",
    "\n",
    "    "
   ]
  },
  {
   "cell_type": "markdown",
   "metadata": {},
   "source": [
    "This chart shows that drama is the most common genre, with roughly 2/3 of movies falling within that category. After a large gap, Crime, Comedy, Adventure, and Action are all close, each with a count between 130 and 170.\n",
    "\n",
    "Next, I wanted to get an idea of the distribution of Rotten Tomatoes ratings. The following histogram shows the distribution of Rotten Tomatoes ratings across all movies in the dataset."
   ]
  },
  {
   "cell_type": "code",
   "execution_count": 5,
   "metadata": {},
   "outputs": [
    {
     "data": {
      "image/png": "[encoded data removed]",
      "text/plain": [
       "<Figure size 432x288 with 1 Axes>"
      ]
     },
     "metadata": {
      "needs_background": "light"
     },
     "output_type": "display_data"
    }
   ],
   "source": [
    "plt.hist(movies[\"rt_rating\"], bins = 20)\n",
    "plt.ylabel(\"Count\")\n",
    "plt.xlabel(\"Rating\")\n",
    "plt.show()"
   ]
  },
  {
   "cell_type": "markdown",
   "metadata": {},
   "source": [
    "We see here that as ratings grow higher, their frequency grows exponentially. This will be useful later in the report. For now, to get a rough understanding of which genres do better on average, I plotted the average ratings for the five most common genres on a bar chart and compared them to the average value for the entire dataset"
   ]
  },
  {
   "cell_type": "code",
   "execution_count": 6,
   "metadata": {},
   "outputs": [
    {
     "data": {
      "image/png": "[encoded data removed]",
      "text/plain": [
       "<Figure size 432x288 with 1 Axes>"
      ]
     },
     "metadata": {
      "needs_background": "light"
     },
     "output_type": "display_data"
    },
    {
     "name": "stdout",
     "output_type": "stream",
     "text": [
      "Mean rotten tomato rating:  82.13282107574095\n"
     ]
    }
   ],
   "source": [
    "mostCommon_avgs = {}\n",
    "for key in mostCommon:\n",
    "    mostCommon_avgs[key] = avg_vals[key] #Get the average values for the five most common genres\n",
    "    \n",
    "mostCommon_avgs[\"Average\"] = movies[\"rt_rating\"].mean() #Add a bar for the average\n",
    "\n",
    "plt.bar(mostCommon_avgs.keys(), mostCommon_avgs.values())\n",
    "plt.axhline(movies[\"rt_rating\"].mean(), color = \"orange\")\n",
    "plt.ylim(60, 90)\n",
    "plt.ylabel(\"Average Rating\")\n",
    "plt.xlabel(\"Genre\")\n",
    "plt.show()\n",
    "\n",
    "print(\"Mean rotten tomato rating: \", movies[\"rt_rating\"].mean())"
   ]
  },
  {
   "cell_type": "markdown",
   "metadata": {},
   "source": [
    "As I expected, the average rating for dramas is two points higher than the average for the dataset as a whole, and a full ten points higher than action movies. Unexpectedly, comedies came in just one point below average. My hypothesis predicted they would be lower rated on average, closer to action movies.\n",
    "\n",
    "Next, I ran a linear regression model on each of these genres. Because there are only two possible x values, the slopes of the resulting trendlines will not give us much more information than examining the means did. However, it tells us the amount of points that are added or subtracted to the expected value of a movie's Rotten Tomatoes rating based on its genre. It also gives us a score for goodness of fit, which will be useful in evaluating the significance of the model."
   ]
  },
  {
   "cell_type": "code",
   "execution_count": 7,
   "metadata": {},
   "outputs": [
    {
     "data": {
      "image/png": "[encoded data removed]",
      "text/plain": [
       "<Figure size 432x288 with 1 Axes>"
      ]
     },
     "metadata": {
      "needs_background": "light"
     },
     "output_type": "display_data"
    },
    {
     "name": "stdout",
     "output_type": "stream",
     "text": [
      "r^2 score for Drama: 0.027310603041648895\n",
      "r^2 score for Adventure: 0.009971789521647567\n",
      "r^2 score for Crime: 0.007704353061665613\n",
      "r^2 score for Comedy: 0.0010440930634726397\n",
      "r^2 score for Action: 0.04510673333034887\n"
     ]
    }
   ],
   "source": [
    "lin_reg = {}\n",
    "r2_scores = {}\n",
    "def runLinearRegression(x, y):\n",
    "    return LinearRegression().fit(movies[[y]], movies[[x]])\n",
    "    \n",
    "\n",
    "for col in mostCommon.keys(): \n",
    "    model = runLinearRegression(\"rt_rating\", col)\n",
    "    lin_reg[col] = model.coef_[0][0] #Populate one dictionary with the regression line slopes for each genre               \n",
    "    r2_scores[col] = model.score(movies[[col]], movies[[\"rt_rating\"]]) #Populate another with the r^2 scores\n",
    "        \n",
    "\n",
    "plt.bar(lin_reg.keys(), lin_reg.values())\n",
    "plt.ylabel(\"Expected Change in Rating\")\n",
    "plt.xlabel(\"Genre\")\n",
    "plt.show()\n",
    "\n",
    "for score in r2_scores:\n",
    "    print(\"r^2 score for \" + score + \": \" + str(r2_scores[score]))\n",
    "\n"
   ]
  },
  {
   "cell_type": "markdown",
   "metadata": {},
   "source": [
    "According to this model, a movie's expected Rotten Tomatoes rating goes up nearly six points when it's a drama, down nine points when it's an action movie, and down just one point when it's a comedy."
   ]
  },
  {
   "cell_type": "markdown",
   "metadata": {},
   "source": [
    "## Evaluation of Significance\n",
    "\n",
    "I first evaluated the significance of the model for dramas. The following scatter plot shows the linear approximation for dramas, with jitter applied to the x axis to make the individual points more visible. The first group of points represents non-drama movies, and the second group represents dramas.\n"
   ]
  },
  {
   "cell_type": "code",
   "execution_count": 8,
   "metadata": {},
   "outputs": [
    {
     "data": {
      "image/png": "[encoded data removed]",
      "text/plain": [
       "<Figure size 432x288 with 1 Axes>"
      ]
     },
     "metadata": {
      "needs_background": "light"
     },
     "output_type": "display_data"
    },
    {
     "name": "stdout",
     "output_type": "stream",
     "text": [
      "R^2:  0.027310603041648895\n",
      "Slope:  6.10566858322276\n"
     ]
    }
   ],
   "source": [
    "import random\n",
    "def jitter(list_, coef): #Change values of points at random to increase visibility\n",
    "    ret = []\n",
    "    for i in list_:\n",
    "        ret.append(i + (random.uniform(-1, 1) * coef))\n",
    "    return ret\n",
    "\n",
    "drama_model = runLinearRegression(\"rt_rating\", \"Drama\")\n",
    "plt.scatter(jitter(movies[\"Drama\"], 0.1), movies[\"rt_rating\"])\n",
    "\n",
    "#Get the endpoints for the regression line\n",
    "end1 = drama_model.intercept_\n",
    "end2 = end1 + drama_model.coef_[0][0]\n",
    "\n",
    "plt.plot([0, 1], [end1, end2], color = \"orange\")\n",
    "plt.ylabel(\"Rating\")\n",
    "plt.xticks([])\n",
    "plt.show()\n",
    "\n",
    "print(\"R^2: \", drama_model.score(movies[[\"Drama\"]], movies[[\"rt_rating\"]]))\n",
    "print(\"Slope: \", drama_model.coef_[0][0])\n"
   ]
  },
  {
   "cell_type": "markdown",
   "metadata": {},
   "source": [
    "Although there is a positive correlation between Dramas and rotten tomatoes scores, the $r^2$ value seems quite lower than we might expect, with only 2.7% of the observed error being explained by the linear model. The scatter plot of values demonstrates why this is. There are only two possible x values (before jittering is applied), but the range of ratings is quite high, so many points fall well outside the line."
   ]
  },
  {
   "cell_type": "markdown",
   "metadata": {},
   "source": [
    "To see whether this $r^2$ value is significant, I compared it to the $r^2$ values of randomly generated samples. To do this, I first had to find out the frequencies that rating values occur, so I could generate realistic samples. Whether a movie is a genre or not is a simple uniform distribution. Coming up with a frequency for the ratings was a little harder. Let's take a look at the distribution again."
   ]
  },
  {
   "cell_type": "code",
   "execution_count": 9,
   "metadata": {},
   "outputs": [
    {
     "data": {
      "image/png": "[encoded data removed]",
      "text/plain": [
       "<Figure size 432x288 with 1 Axes>"
      ]
     },
     "metadata": {
      "needs_background": "light"
     },
     "output_type": "display_data"
    }
   ],
   "source": [
    "plt.hist(movies[\"rt_rating\"], bins = 20)\n",
    "plt.ylabel(\"Count\")\n",
    "plt.xlabel(\"Rating\")\n",
    "plt.show()"
   ]
  },
  {
   "cell_type": "markdown",
   "metadata": {},
   "source": [
    "As we noted before, as the ratings increase, their frequency increases exponentially. With this in mind, I chose to mimic this distribution using the expression $100 - $random.uniform(0, 10)$^2$. This created the following distribution of ratings:"
   ]
  },
  {
   "cell_type": "code",
   "execution_count": 10,
   "metadata": {},
   "outputs": [
    {
     "data": {
      "image/png": "[encoded data removed]",
      "text/plain": [
       "<Figure size 432x288 with 1 Axes>"
      ]
     },
     "metadata": {
      "needs_background": "light"
     },
     "output_type": "display_data"
    }
   ],
   "source": [
    "def random_regression(n, freq, print_): #Generate a random sample of a specified size and frequency\n",
    "    x = np.zeros(n)\n",
    "    y = np.zeros(n)\n",
    "    for i in range(n):\n",
    "        if(random.uniform(0, 1) < freq): #label a proportion of the sample equal to freq with the specified genre\n",
    "            x[i] = 1\n",
    "        y[i] = y[i] + 100 - (random.uniform(0, 10)**2) #mimic the exponenitial distribution of the ratings\n",
    "    if(print_): #Show the histogram. Otherwise, the method just returns the score\n",
    "        plt.hist(y, bins = 20)\n",
    "        plt.ylabel(\"Count\")\n",
    "        plt.xlabel(\"Rating\")\n",
    "        plt.show()\n",
    "    else:\n",
    "        model = LinearRegression().fit(x.reshape(-1, 1), y.reshape(-1, 1))\n",
    "        return model.score(x.reshape(-1, 1), y.reshape(-1, 1))\n",
    "\n",
    "movies_length = len(movies)\n",
    "random_regression(movies_length, 0.5, True)\n",
    "\n"
   ]
  },
  {
   "cell_type": "markdown",
   "metadata": {},
   "source": [
    "Although the match is not perfect, the general shape of the graph is similar enough that the random samples should be realistic. When we combine sampling from these two frequencies, we can generate a realistically distributed set of randomly generated movies. I then create 1000 of these samples, found their $r^2$ scores and mapped them into a histogram"
   ]
  },
  {
   "cell_type": "code",
   "execution_count": 11,
   "metadata": {},
   "outputs": [
    {
     "data": {
      "image/png": "[encoded data removed]",
      "text/plain": [
       "<Figure size 432x288 with 1 Axes>"
      ]
     },
     "metadata": {
      "needs_background": "light"
     },
     "output_type": "display_data"
    }
   ],
   "source": [
    "def randomScores(freq): #Generate the r^2 scores of n = movies_length random samples and plot them.\n",
    "    scores = np.zeros(1000)\n",
    "    for i in range(len(scores)):\n",
    "        scores[i] = random_regression(movies_length, freq, False)\n",
    "\n",
    "    plt.hist(scores, bins = 20)\n",
    "    plt.ylabel(\"Count\")\n",
    "    plt.xlabel(\"r^2 score\")\n",
    "    plt.show()\n",
    "\n",
    "def getFreq(genre):#Return the frequency at which a certain genre appears in the whole dataset\n",
    "    return genres[genre].sum()/movies_length\n",
    "\n",
    "randomScores(getFreq(\"Drama\"))"
   ]
  },
  {
   "cell_type": "markdown",
   "metadata": {},
   "source": [
    "The largest outliers on this histogram appear around 0.011. The actual observed $r^2$ value was 0.02, which falls well outside the expected range that can be accounted for by randomness. Therefore, the positive correlation between a movie being a drama and its Rotten Tomatoes ratings is statistically significant."
   ]
  },
  {
   "cell_type": "markdown",
   "metadata": {},
   "source": [
    "I ran the same analysis for the action genre. The only difference in the randomly generated samples will be that only roughly one out of eight movies is an action movie. I changed the distribution of the genre label to reflect this."
   ]
  },
  {
   "cell_type": "code",
   "execution_count": 12,
   "metadata": {},
   "outputs": [
    {
     "data": {
      "image/png": "[encoded data removed]",
      "text/plain": [
       "<Figure size 432x288 with 1 Axes>"
      ]
     },
     "metadata": {
      "needs_background": "light"
     },
     "output_type": "display_data"
    }
   ],
   "source": [
    "randomScores(getFreq(\"Action\"))"
   ]
  },
  {
   "cell_type": "markdown",
   "metadata": {},
   "source": [
    "Like the first set of random samples, the highest $r^2$ scores in the randomly generated range are around 0.014, which is much less than the 0.037 $r^2$ score we observed in the real data set for action movies. This means that the negative correlation between action movies and Rotten Tomatoes ratings is also statistically significant. Lastly, I ran the same analysis for comedies."
   ]
  },
  {
   "cell_type": "code",
   "execution_count": 13,
   "metadata": {},
   "outputs": [
    {
     "data": {
      "image/png": "[encoded data removed]",
      "text/plain": [
       "<Figure size 432x288 with 1 Axes>"
      ]
     },
     "metadata": {
      "needs_background": "light"
     },
     "output_type": "display_data"
    }
   ],
   "source": [
    "randomScores(getFreq(\"Comedy\"))"
   ]
  },
  {
   "cell_type": "markdown",
   "metadata": {},
   "source": [
    "The $r^2$ score for comedy is much lower than that of action and drama as just 0.0007. This falls well into the range of values that randomness could account for, meaning the correlation between comedies and Rotten Tomatoes ratings is statistically insignificant."
   ]
  },
  {
   "cell_type": "markdown",
   "metadata": {},
   "source": [
    "## Conclusion\n",
    "\n",
    "Going into this analysis, I hypothesized that there was a statistically significant positive correlation between a movie being a drama and its Rotten Tomatoes rating. I also hypothesized that there were two statistically significant negative correlations between comedies/action movies and Rotten Tomatoes ratings.\n",
    "\n",
    "This analysis confirmed the existence of two of those correlations for dramas and action movies. However, the correlation found between comedies and Rotten Tomatoes ratings was both less pronounced and statistically insignificant. This could be because I had a narrow view of what I considered to be a comedy going into this project. I was thinking of cliche Will Ferrell and Adam Sandler movies, but there are plenty of more sophisticated comedies out there.\n",
    "\n",
    "Ultimately, if one enjoys action movies, they should not be turned off by a lower rating than the average movie; critics just tend to rate this type of movie lower. Similarly, if one doesn't particularly like dramas, they shouldn't rush to see one just because it got a higher rating than average."
   ]
  },
  {
   "cell_type": "markdown",
   "metadata": {},
   "source": [
    "## Source Code\n",
    "\n",
    "Github repo: https://github.coecis.cornell.edu/jmw552/2950Final"
   ]
  },
  {
   "cell_type": "markdown",
   "metadata": {},
   "source": [
    "\n",
    "## Acknowledgements\n",
    "\n",
    "This idea is a spinoff of an idea that one of my INFO 3300 Data Driven Web Apps project groups came up with it, although we ultimately scrapped the idea, so I'd like to thank that project group. I'd also like to thank the 3300 professor, Jeff Rzeszotarski, for teaching me various data visualization techniques and giving me experience with larger-scale data-driven projects like this one. Lastly, I'd like to thank Professor Mimno and all the TAs for being so flexible throughout this course and making as much as they could out of a difficult situation."
   ]
  },
  {
   "cell_type": "code",
   "execution_count": null,
   "metadata": {},
   "outputs": [],
   "source": []
  }
 ],
 "metadata": {
  "kernelspec": {
   "display_name": "Python 3",
   "language": "python",
   "name": "python3"
  },
  "language_info": {
   "codemirror_mode": {
    "name": "ipython",
    "version": 3
   },
   "file_extension": ".py",
   "mimetype": "text/x-python",
   "name": "python",
   "nbconvert_exporter": "python",
   "pygments_lexer": "ipython3",
   "version": "3.7.6"
  }
 },
 "nbformat": 4,
 "nbformat_minor": 2
}
